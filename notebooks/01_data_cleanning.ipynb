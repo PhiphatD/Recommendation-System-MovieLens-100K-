{
 "cells": [
  {
   "cell_type": "code",
   "execution_count": 17,
   "id": "9f6ad32f",
   "metadata": {},
   "outputs": [
    {
     "name": "stdout",
     "output_type": "stream",
     "text": [
      "   user_id  item_id  rating  timestamp\n",
      "0      196      242       3  881250949\n",
      "1      186      302       3  891717742\n",
      "2       22      377       1  878887116\n",
      "3      244       51       2  880606923\n",
      "4      166      346       1  886397596\n"
     ]
    }
   ],
   "source": [
    "import pandas as pd\n",
    "\n",
    "# 1. อ่านไฟล์ u.data\n",
    "column_names = ['user_id', 'item_id', 'rating', 'timestamp']\n",
    "data = pd.read_csv(\"u.data\", sep=\"\\t\", names=column_names)\n",
    "print(data.head())\n"
   ]
  },
  {
   "cell_type": "code",
   "execution_count": 19,
   "id": "1ccbaaa1",
   "metadata": {},
   "outputs": [
    {
     "name": "stdout",
     "output_type": "stream",
     "text": [
      "   item_id        movie_title release_date  video_release_date  \\\n",
      "0        1   Toy Story (1995)  01-Jan-1995                 NaN   \n",
      "1        2   GoldenEye (1995)  01-Jan-1995                 NaN   \n",
      "2        3  Four Rooms (1995)  01-Jan-1995                 NaN   \n",
      "3        4  Get Shorty (1995)  01-Jan-1995                 NaN   \n",
      "4        5     Copycat (1995)  01-Jan-1995                 NaN   \n",
      "\n",
      "                                            IMDb_URL  unknown  Action  \\\n",
      "0  http://us.imdb.com/M/title-exact?Toy%20Story%2...        0       0   \n",
      "1  http://us.imdb.com/M/title-exact?GoldenEye%20(...        0       1   \n",
      "2  http://us.imdb.com/M/title-exact?Four%20Rooms%...        0       0   \n",
      "3  http://us.imdb.com/M/title-exact?Get%20Shorty%...        0       1   \n",
      "4  http://us.imdb.com/M/title-exact?Copycat%20(1995)        0       0   \n",
      "\n",
      "   Adventure  Animation  Children's  ...  Fantasy  Film-Noir  Horror  Musical  \\\n",
      "0          0          1           1  ...        0          0       0        0   \n",
      "1          1          0           0  ...        0          0       0        0   \n",
      "2          0          0           0  ...        0          0       0        0   \n",
      "3          0          0           0  ...        0          0       0        0   \n",
      "4          0          0           0  ...        0          0       0        0   \n",
      "\n",
      "   Mystery  Romance  Sci-Fi  Thriller  War  Western  \n",
      "0        0        0       0         0    0        0  \n",
      "1        0        0       0         1    0        0  \n",
      "2        0        0       0         1    0        0  \n",
      "3        0        0       0         0    0        0  \n",
      "4        0        0       0         1    0        0  \n",
      "\n",
      "[5 rows x 24 columns]\n"
     ]
    }
   ],
   "source": [
    "# 2. อ่านไฟล์ u.item\n",
    "item_columns = [\n",
    "    'item_id', 'movie_title', 'release_date', 'video_release_date', 'IMDb_URL',\n",
    "    'unknown', 'Action', 'Adventure', 'Animation', \"Children's\", 'Comedy', \n",
    "    'Crime', 'Documentary', 'Drama', 'Fantasy', 'Film-Noir', 'Horror', \n",
    "    'Musical', 'Mystery', 'Romance', 'Sci-Fi', 'Thriller', 'War', 'Western'\n",
    "]\n",
    "\n",
    "movies = pd.read_csv(\"u.item\", sep=\"|\", names=item_columns, encoding=\"latin-1\")\n",
    "\n",
    "\n",
    "print(movies.head(5))"
   ]
  },
  {
   "cell_type": "code",
   "execution_count": 20,
   "id": "dcfc1781",
   "metadata": {},
   "outputs": [
    {
     "name": "stdout",
     "output_type": "stream",
     "text": [
      "   user_id  age gender  occupation zip_code\n",
      "0        1   24      M  technician    85711\n",
      "1        2   53      F       other    94043\n",
      "2        3   23      M      writer    32067\n",
      "3        4   24      M  technician    43537\n",
      "4        5   33      F       other    15213\n"
     ]
    }
   ],
   "source": [
    "# 3. อ่านไฟล์ u.user\n",
    "user_columns = ['user_id', 'age', 'gender', 'occupation', 'zip_code']\n",
    "users = pd.read_csv(\"u.user\", sep=\"|\", names=user_columns)\n",
    "\n",
    "print(users.head(5))\n"
   ]
  },
  {
   "cell_type": "code",
   "execution_count": 22,
   "id": "81d55c5b",
   "metadata": {},
   "outputs": [
    {
     "name": "stdout",
     "output_type": "stream",
     "text": [
      "   user_id  item_id  rating  timestamp                 movie_title  \\\n",
      "0      196      242       3  881250949                Kolya (1996)   \n",
      "1      186      302       3  891717742    L.A. Confidential (1997)   \n",
      "2       22      377       1  878887116         Heavyweights (1994)   \n",
      "3      244       51       2  880606923  Legends of the Fall (1994)   \n",
      "4      166      346       1  886397596         Jackie Brown (1997)   \n",
      "\n",
      "  release_date  age gender  occupation  \n",
      "0  24-Jan-1997   49      M      writer  \n",
      "1  01-Jan-1997   39      F   executive  \n",
      "2  01-Jan-1994   25      M      writer  \n",
      "3  01-Jan-1994   28      M  technician  \n",
      "4  01-Jan-1997   47      M    educator  \n"
     ]
    }
   ],
   "source": [
    "# 4. รวมข้อมูล ratings + movies (เชื่อมด้วย item_id)\n",
    "ratings_movies = pd.merge(data, movies[['item_id','movie_title','release_date']], on='item_id')\n",
    "\n",
    "# 5. รวมข้อมูล ratings_movies + users (เชื่อมด้วย user_id)\n",
    "final_data = pd.merge(ratings_movies, users[['user_id','age','gender','occupation']], on='user_id')\n",
    "\n",
    "# แสดงผล\n",
    "print(final_data.head())"
   ]
  },
  {
   "cell_type": "code",
   "execution_count": 32,
   "id": "e967417f",
   "metadata": {},
   "outputs": [
    {
     "name": "stdout",
     "output_type": "stream",
     "text": [
      "จำนวนเรคอร์ดซ้ำ (user_id,item_id): 0\n"
     ]
    },
    {
     "data": {
      "image/png": "[encoded data removed]",
      "text/plain": [
       "<Figure size 640x480 with 1 Axes>"
      ]
     },
     "metadata": {},
     "output_type": "display_data"
    },
    {
     "name": "stdout",
     "output_type": "stream",
     "text": [
      "ค่าเฉลี่ย rating ทั้งหมด: 3.53\n",
      "เฉลี่ยตามเพศ:\n",
      " gender\n",
      "F    3.532\n",
      "M    3.529\n",
      "Name: rating, dtype: float64\n",
      "                                                        mean  count\n",
      "movie_title                                                        \n",
      "Close Shave, A (1995)                               4.491071    112\n",
      "Schindler's List (1993)                             4.466443    298\n",
      "Wrong Trousers, The (1993)                          4.466102    118\n",
      "Casablanca (1942)                                   4.456790    243\n",
      "Wallace & Gromit: The Best of Aardman Animation...  4.447761     67\n",
      "Shawshank Redemption, The (1994)                    4.445230    283\n",
      "Rear Window (1954)                                  4.387560    209\n",
      "Usual Suspects, The (1995)                          4.385768    267\n",
      "Star Wars (1977)                                    4.358491    583\n",
      "12 Angry Men (1957)                                 4.344000    125\n",
      "Users=943, Items=1682, Ratings=100000, Density=6.3047%\n"
     ]
    }
   ],
   "source": [
    "# --- Data Validation & Quick EDA ---\n",
    "\n",
    "# 1) ช่วงค่า rating ต้องเป็น 1..5 และเป็นจำนวนเต็ม\n",
    "assert final_data['rating'].between(1,5).all(), \"พบ rating นอกช่วง 1–5\"\n",
    "final_data['rating'] = final_data['rating'].astype(int)\n",
    "\n",
    "# 2) ไม่มี missing ที่คีย์สำคัญ\n",
    "assert final_data[['user_id','item_id','rating']].notna().all().all(), \"พบ missing ในคีย์สำคัญ\"\n",
    "\n",
    "# 3) ตรวจ duplicate เรคอร์ด (user_id, item_id) เดียวกันหลายแถว\n",
    "dups = final_data.duplicated(subset=['user_id','item_id'], keep=False).sum()\n",
    "print(f\"จำนวนเรคอร์ดซ้ำ (user_id,item_id): {dups}\")\n",
    "\n",
    "# 4) แปลงเวลา\n",
    "import pandas as pd, matplotlib.pyplot as plt\n",
    "final_data['datetime'] = pd.to_datetime(final_data['timestamp'], unit='s')\n",
    "\n",
    "# 5) นับความถี่แต่ละคะแนนและพล็อตให้ล็อกที่ 1..5\n",
    "counts = final_data['rating'].value_counts().reindex([1,2,3,4,5], fill_value=0)\n",
    "\n",
    "plt.figure()\n",
    "counts.plot(kind='bar')\n",
    "plt.title('Rating Counts (1–5)')\n",
    "plt.xlabel('Rating'); plt.ylabel('Frequency')\n",
    "plt.xticks(rotation=0)\n",
    "plt.show()\n",
    "\n",
    "# 6) สถิติเบื้องต้น\n",
    "print(\"ค่าเฉลี่ย rating ทั้งหมด:\", final_data['rating'].mean().round(3))\n",
    "print(\"เฉลี่ยตามเพศ:\\n\", final_data.groupby('gender')['rating'].mean().round(3))\n",
    "\n",
    "# 7) Top movies แบบมีเกณฑ์จำนวนโหวตขั้นต่ำ (กันค่าเฉลี่ยลวง)\n",
    "vc = final_data['movie_title'].value_counts()\n",
    "min_votes = 50\n",
    "top_mean = (final_data.groupby('movie_title')['rating']\n",
    "            .agg(['mean','count'])\n",
    "            .query('count >= @min_votes')\n",
    "            .sort_values(['mean','count'], ascending=[False, False])\n",
    "            .head(10))\n",
    "print(top_mean)\n",
    "\n",
    "# 8) อัตราความหนาแน่น (sparseness) ของ user–item matrix (มีผลต่อวิธีเลือกโมเดล)\n",
    "n_users = final_data['user_id'].nunique()\n",
    "n_items = final_data['item_id'].nunique()\n",
    "n_ratings = len(final_data)\n",
    "density = n_ratings / (n_users * n_items)\n",
    "print(f\"Users={n_users}, Items={n_items}, Ratings={n_ratings}, Density={density:.4%}\")\n"
   ]
  }
 ],
 "metadata": {
  "kernelspec": {
   "display_name": "Python 3",
   "language": "python",
   "name": "python3"
  },
  "language_info": {
   "codemirror_mode": {
    "name": "ipython",
    "version": 3
   },
   "file_extension": ".py",
   "mimetype": "text/x-python",
   "name": "python",
   "nbconvert_exporter": "python",
   "pygments_lexer": "ipython3",
   "version": "3.13.3"
  }
 },
 "nbformat": 4,
 "nbformat_minor": 5
}
